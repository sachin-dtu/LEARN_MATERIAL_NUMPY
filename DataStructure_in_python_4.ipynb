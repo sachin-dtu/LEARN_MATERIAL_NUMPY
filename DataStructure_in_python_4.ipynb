{
  "nbformat": 4,
  "nbformat_minor": 0,
  "metadata": {
    "colab": {
      "provenance": [],
      "authorship_tag": "ABX9TyO6HSxHeTIk9wobPLHMhZ5N",
      "include_colab_link": true
    },
    "kernelspec": {
      "name": "python3",
      "display_name": "Python 3"
    },
    "language_info": {
      "name": "python"
    }
  },
  "cells": [
    {
      "cell_type": "markdown",
      "metadata": {
        "id": "view-in-github",
        "colab_type": "text"
      },
      "source": [
        "<a href=\"https://colab.research.google.com/github/sachin-dtu/LEARN_MATERIAL_NUMPY/blob/main/DataStructure_in_python_4.ipynb\" target=\"_parent\"><img src=\"https://colab.research.google.com/assets/colab-badge.svg\" alt=\"Open In Colab\"/></a>"
      ]
    },
    {
      "cell_type": "markdown",
      "source": [
        "# **DP-1**"
      ],
      "metadata": {
        "id": "Naxtjk3aGuvz"
      }
    },
    {
      "cell_type": "markdown",
      "source": [
        "## **Min Steps To 1**\n",
        "\n",
        "* Given a positive integer 'n', find and return the minimum number of steps that 'n' has to take to get reduced to 1. You can perform any one of the following 3 steps:\n",
        "1. ) Subtract 1 from it. (n = n - ­1) ,\n",
        "2. ) If n is divisible by 2, divide by 2.( if n % 2 == 0, then n = n / 2 ) ,\n",
        "3. ) If n is divisible by 3, divide by 3. (if n % 3 == 0, then n = n / 3 ).  \n",
        "### **Input format :**\n",
        "* The first and the only line of input contains an integer value, 'n'.\n",
        "### **Output format :**\n",
        "* Print the minimum number of steps.\n",
        "### **Constraints :**\n",
        "* 1 <= n <= 10 ^ 6\n",
        "* Time Limit: 1 sec\n",
        "### **Sample Input 1 :**\n",
        "* 4\n",
        "### **Sample Output 1 :**\n",
        "* 2 \n",
        "### **Explanation of Sample Output 1 :**\n",
        "* For n = 4\n",
        "* Step 1 :  n = 4 / 2  = 2\n",
        "* Step 2 : n = 2 / 2  =  1 \n",
        "### **Sample Input 2 :**\n",
        "* 7\n",
        "### **Sample Output 2 :**\n",
        "* 3\n",
        "### **Explanation of Sample Output 2 :**\n",
        "* For n = 7\n",
        "* Step 1 :  n = 7 ­- 1 = 6\n",
        "* Step 2 : n = 6  / 3 = 2 \n",
        "* Step 3 : n = 2 / 2 = 1  "
      ],
      "metadata": {
        "id": "GMOy7iygG9QG"
      }
    },
    {
      "cell_type": "code",
      "execution_count": null,
      "metadata": {
        "colab": {
          "base_uri": "https://localhost:8080/"
        },
        "id": "v3im1fPFGiIN",
        "outputId": "f20f414c-8006-403c-9ca3-0f116b954030"
      },
      "outputs": [
        {
          "output_type": "stream",
          "name": "stdout",
          "text": [
            "1\n",
            "0\n"
          ]
        }
      ],
      "source": [
        "from sys import stdin\n",
        "from sys import maxsize as MAX_VALUE\n",
        "import sys\n",
        "def countMinStepsToOne(n) :\n",
        "  if n==1:\n",
        "    return 0\n",
        "  minSteps = [0]*(n+1)\n",
        "  minSteps[1] = 0\n",
        "  for currStep in range(2,(n+1)):\n",
        "    subt = minSteps[currStep-1]\n",
        "    divtwo = MAX_VALUE\n",
        "    divthree = MAX_VALUE\n",
        "    if currStep%2 ==0:\n",
        "      divtwo = minSteps[currStep//2]\n",
        "    if currStep%3==0:\n",
        "      divthree = minSteps[currStep//3]\n",
        "    minSteps[currStep] = 1 + min(subt,divtwo,divthree)\n",
        "  return minSteps[n]\n",
        "    \n",
        "\n",
        "#main\n",
        "n = int(input())\n",
        "# dp = [-1 for i in range(n+1)]\n",
        "print(countMinStepsToOne(n))\n"
      ]
    },
    {
      "cell_type": "markdown",
      "source": [
        "## **Minimum Number Of Squares**\n",
        "\n",
        "* A number can always be represented as a sum of squares of other numbers. Note that 1 is a square and we can always break a number as [(1 * 1) + (1 * 1) + (1 * 1) + …]. Given a number n, find the minimum number of squares that sum to n.\n",
        "### **Input format:**\n",
        " * The first and only line of input contains an integer N (1 <= N <= 10000)\n",
        "### **Constraints:**\n",
        "* Time Limit: 1 seconds\n",
        "### **Output format:**\n",
        "* The first and only line of output contains the minimum number if squares that sum to n.\n",
        "### **Sample Test Cases:**\n",
        "**Sample Input 1:**\n",
        "* 100\n",
        "**Sample Output 1:**\n",
        "* 1\n",
        "### **Explanation:**\n",
        "* We can write 100 as 10^2 also, 100 can be written as (5^2) + (5^2) + (5^2) + (5^2), but this representation requires 4 squares. So, in this case, the expected answer would be 1, that is, 10^2."
      ],
      "metadata": {
        "id": "CxhmqDSjJbIJ"
      }
    },
    {
      "cell_type": "code",
      "source": [
        "\n",
        "import sys\n",
        "import math\n",
        "\n",
        "\n",
        "def minSquaresI(n):\n",
        "    dp = [-1 for i in range(n+1)]\n",
        "    dp[0] = 0\n",
        "\n",
        "    for i in range(1, n+1):\n",
        "        ans = sys.maxsize\n",
        "        root = int(math.sqrt(i))\n",
        "        for j in range(1, root+1):\n",
        "            currAns = 1+dp[i-(j**2)]\n",
        "            ans = min(ans, currAns)\n",
        "        dp[i] = ans\n",
        "    return dp[n]\n",
        "\n",
        "\n",
        "n = int(input())\n",
        "ans = minSquaresI(n)\n",
        "print(ans)\n"
      ],
      "metadata": {
        "id": "dP0jh9AwJ5Nr"
      },
      "execution_count": null,
      "outputs": []
    },
    {
      "cell_type": "markdown",
      "source": [
        "## **Longest Increasing Subsequence**\n",
        "\n",
        "* Given an array with N elements, you need to find the length of the longest subsequence in the given array such that all elements of the subsequence are sorted in strictly increasing order.\n",
        "### **Input Format**\n",
        "* The first line of input contains an integer N. The following line contains N space separated integers, that denote the value of elements of array.\n",
        "### **Output Format**\n",
        "* The first and only line of output contains the length of longest subsequence.\n",
        "### **Constraints**\n",
        "* 1 <= N <= 10^3\n",
        "* Time Limit: 1 second\n",
        "### **Sample Input 1 :**\n",
        "* 6\n",
        "* 5 4 11 1 16 8\n",
        "### **Sample Output 1 :**\n",
        "* 3\n",
        "### **Sample Output Explanation**\n",
        "* Length of longest subsequence is 3 i.e. (5,11,16) or (4,11,16).\n",
        "### **Sample Input 2 :**\n",
        "* 3\n",
        "* 1 2 2\n",
        "### **Sample Output 2 :**\n",
        "* 2"
      ],
      "metadata": {
        "id": "Qc6zgnWvKEE5"
      }
    },
    {
      "cell_type": "code",
      "source": [
        "def lisI(li,n):\n",
        "    \n",
        "    dp=[[0 for j in range(2) ]for i in range(n+1)]\n",
        "    \n",
        "    for i in range(n-1,-1,-1):\n",
        "        including_max=1\n",
        "        for j in range(i+1,n):\n",
        "            if li[j]>li[i]:\n",
        "                including_max=max(including_max,1+dp[j][0])\n",
        "        dp[i][0]=including_max\n",
        "        excluding_max=dp[i+1][1]\n",
        "        overallMax=max(including_max,excluding_max)\n",
        "        dp[i][1]=overallMax\n",
        "    return dp[0][1]\n",
        "n=int(input())\n",
        "li=[int(ele) for ele in input().split()]\n",
        "ans=lisI(li,n)\n",
        "print(ans)"
      ],
      "metadata": {
        "id": "FVYJ7ayeKgly"
      },
      "execution_count": null,
      "outputs": []
    },
    {
      "cell_type": "markdown",
      "source": [
        "# **DP-2**"
      ],
      "metadata": {
        "id": "PL3hWhN-Kwgv"
      }
    },
    {
      "cell_type": "markdown",
      "source": [
        "## **Min Cost Path Problem**\n",
        "\n",
        "* An integer matrix of size (M x N) has been given. Find out the minimum cost to reach from the cell (0, 0) to (M - 1, N - 1).\n",
        "* From a cell (i, j), you can move in three directions:\n",
        "1. ((i + 1),  j) which is, \"down\"\n",
        "2. (i, (j + 1)) which is, \"to the right\"\n",
        "3. ((i+1), (j+1)) which is, \"to the diagonal\"\n",
        "* The cost of a path is defined as the sum of each cell's values through which the route passes.\n",
        "### **Input format :**\n",
        "* The first line of the test case contains two integer values, 'M' and 'N', separated by a single space. They represent the 'rows' and 'columns' respectively, for the two-dimensional array/list.\n",
        "\n",
        "* The second line onwards, the next 'M' lines or rows represent the ith row values.\n",
        "\n",
        "* Each of the ith row constitutes 'N' column values separated by a single space.\n",
        "### **Output format :**\n",
        "* Print the minimum cost to reach the destination.\n",
        "### **Constraints :**\n",
        "* 1 <= M <= 10 ^ 2\n",
        "* 1 <= N <=  10 ^ 2\n",
        "\n",
        "* Time Limit: 1 sec\n",
        "### **Sample Input 1 :**\n",
        "* 3 4\n",
        "* 3 4 1 2\n",
        "* 2 1 8 9\n",
        "* 4 7 8 1\n",
        "### **Sample Output 1 :**\n",
        "* 13\n",
        "### **Sample Input 2 :**\n",
        "* 3 4\n",
        "* 10 6 9 0\n",
        "* -23 8 9 90\n",
        "* -200 0 89 200\n",
        "### **Sample Output 2 :**\n",
        "* 76\n",
        "### **Sample Input 3 :**\n",
        "* 5 6\n",
        "* 9 6 0 12 90 1\n",
        "* 2 7 8 5 78 6\n",
        "* 1 6 0 5 10 -4 \n",
        "* 9 6 2 -10 7 4\n",
        "* 10 -2 0 5 5 7\n",
        "### **Sample Output 3 :**\n",
        "* 18"
      ],
      "metadata": {
        "id": "4d_xd5aUK0Rv"
      }
    },
    {
      "cell_type": "code",
      "source": [
        "\n",
        "from sys import stdin\n",
        "MAX_VALUE = 2147483647\n",
        "\n",
        "\n",
        "def minCostPath(mat, mRows, nCols) :\n",
        "    # Initialize the dp table\n",
        "    dp = [[0 for j in range(nCols)] for i in range(mRows)]\n",
        "    \n",
        "    # Base case\n",
        "    dp[0][0] = mat[0][0]\n",
        "    \n",
        "    # Fill the first row of dp table\n",
        "    for j in range(1, nCols):\n",
        "        dp[0][j] = dp[0][j-1] + mat[0][j]\n",
        "    \n",
        "    # Fill the first column of dp table\n",
        "    for i in range(1, mRows):\n",
        "        dp[i][0] = dp[i-1][0] + mat[i][0]\n",
        "    \n",
        "    # Fill the rest of the dp table\n",
        "    for i in range(1, mRows):\n",
        "        for j in range(1, nCols):\n",
        "            dp[i][j] = min(dp[i-1][j], dp[i][j-1], dp[i-1][j-1]) + mat[i][j]\n",
        "    \n",
        "    # Return the minimum cost to reach (mRows-1, nCols-1)\n",
        "    return dp[mRows-1][nCols-1]\n",
        "\n",
        "\n",
        "#taking input using fast I/O method\n",
        "def take2DInput() :\n",
        "    li = stdin.readline().rstrip().split(\" \")\n",
        "    mRows = int(li[0])\n",
        "    nCols = int(li[1])\n",
        "    \n",
        "    if mRows == 0 :\n",
        "        return list(), 0, 0\n",
        "    \n",
        "    mat = [list(map(int, input().strip().split(\" \"))) for row in range(mRows)]\n",
        "    return mat, mRows, nCols\n",
        "\n",
        "\n",
        "#main\n",
        "mat, mRows, nCols = take2DInput()\n",
        "print(minCostPath(mat, mRows, nCols))"
      ],
      "metadata": {
        "id": "K23t7fJwLfti"
      },
      "execution_count": null,
      "outputs": []
    },
    {
      "cell_type": "markdown",
      "source": [
        "## **LCS - Problem**\n",
        "\n",
        "* Given two strings, 'S' and 'T' with lengths 'M' and 'N', find the length of the 'Longest Common Subsequence'.\n",
        "* For a string 'str'(per se) of length K, the subsequences are the strings containing characters in the same relative order as they are present in 'str,' but not necessarily contiguous. Subsequences contain all the strings of length varying from 0 to K.\n",
        "### **Example :**\n",
        "* Subsequences of string \"abc\" are:  \"\"(empty string), a, b, c, ab, bc, ac, abc.\n",
        "### **Input format :**\n",
        "* The first line of input contains the string 'S' of length 'M'.\n",
        "\n",
        "* The second line of the input contains the string 'T' of length 'N'.\n",
        "### **Output format :**\n",
        "* Return the length of the Longest Common Subsequence.\n",
        "### **Constraints :**\n",
        "* 0 <= M <= 10 ^ 3\n",
        "* 0 <= N <= 10 ^ 3\n",
        "\n",
        "* Time Limit: 1 sec\n",
        "### **Sample Input 1 :**\n",
        "* adebc\n",
        "* dcadb\n",
        "### **Sample Output 1 :**\n",
        "* 3\n",
        "### **Explanation of the Sample Output 1 :**\n",
        "* Both the strings contain a common subsequence 'adb', which is the longest common subsequence with length 3. \n",
        "### **Sample Input 2 :**\n",
        "* ab\n",
        "* defg\n",
        "### **Sample Output 2 :**\n",
        "* 0\n",
        "### **Explanation of the Sample Output 2 :**\n",
        "* The only subsequence that is common to both the given strings is an empty string(\"\") of length 0."
      ],
      "metadata": {
        "id": "xM34yb0DM61B"
      }
    },
    {
      "cell_type": "code",
      "source": [
        "from sys import stdin\n",
        "\n",
        "def lcs(s, t) :\n",
        "    M, N = len(s), len(t)\n",
        "    \n",
        "    # initialize dp matrix\n",
        "    dp = [[0 for j in range(N+1)] for i in range(M+1)]\n",
        "    \n",
        "    # fill up dp matrix\n",
        "    for i in range(1, M+1):\n",
        "        for j in range(1, N+1):\n",
        "            if s[i-1] == t[j-1]:\n",
        "                dp[i][j] = 1 + dp[i-1][j-1]\n",
        "            else:\n",
        "                dp[i][j] = max(dp[i-1][j], dp[i][j-1])\n",
        "    \n",
        "    # return length of LCS\n",
        "    return dp[M][N]\n",
        "\n",
        "#main\n",
        "s = str(stdin.readline().rstrip())\n",
        "t = str(stdin.readline().rstrip())\n",
        "\n",
        "print(lcs(s, t))\n"
      ],
      "metadata": {
        "id": "R-PS63KANnL2"
      },
      "execution_count": null,
      "outputs": []
    },
    {
      "cell_type": "markdown",
      "source": [
        "## **0 1 Knapsack - Problem**\n",
        "\n",
        "* A thief robbing a store can carry a maximal weight of W into his knapsack. There are N items, and i-th item weigh 'Wi' and the value being 'Vi.' What would be the maximum value V, that the thief can steal?\n",
        "### **Input Format :**\n",
        "* The first line of the input contains an integer value N, which denotes the total number of items.\n",
        "\n",
        "* The second line of input contains the N number of weights separated by a single space.\n",
        "\n",
        "* The third line of input contains the N number of values separated by a single space.\n",
        "\n",
        "* The fourth line of the input contains an integer value W, which denotes the maximum weight the thief can steal.\n",
        "### **Output Format :**\n",
        "* Print the maximum value of V that the thief can steal.\n",
        "### **Constraints :**\n",
        "* 1 <= N <= 20\n",
        "* 1<= Wi <= 100\n",
        "* 1 <= Vi <= 100\n",
        "\n",
        "* Time Limit: 1 sec\n",
        "### **Sample Input 1 :**\n",
        "* 4\n",
        "* 1 2 4 5\n",
        "* 5 4 8 6\n",
        "* 5\n",
        "### **Sample Output 1 :**\n",
        "* 13\n",
        "### **Sample Input 2 :**\n",
        "* 5\n",
        "* 12 7 11 8 9\n",
        "* 24 13 23 15 16\n",
        "* 26\n",
        "### **Sample Output 2 :**\n",
        "* 51"
      ],
      "metadata": {
        "id": "iXn-p-g5NqTM"
      }
    },
    {
      "cell_type": "code",
      "source": [
        "\n",
        "from sys import stdin\n",
        "def knapsack(weights, values, n, maxWeight):\n",
        "    dp = [[0 for j in range(maxWeight+1)] for i in range(n+1)] # Create a 2D DP table\n",
        "    \n",
        "    for i in range(1, n+1):\n",
        "        for j in range(1, maxWeight+1):\n",
        "            if weights[i-1] <= j:\n",
        "                dp[i][j] = max(dp[i-1][j], values[i-1] + dp[i-1][j-weights[i-1]])\n",
        "            else:\n",
        "                dp[i][j] = dp[i-1][j]\n",
        "    \n",
        "    return dp[n][maxWeight]\n",
        "\n",
        "\n",
        "def takeInput():\n",
        "    n = int(input())\n",
        "\n",
        "    if n == 0:\n",
        "        return list(), list(), n, 0\n",
        "\n",
        "    weights = list(map(int, input().strip().split()))\n",
        "    values = list(map(int, input().strip().split()))\n",
        "    maxWeight = int(input())\n",
        "\n",
        "    return weights, values, n, maxWeight\n",
        "\n",
        "\n",
        "# main\n",
        "weights, values, n, maxWeight = takeInput()\n",
        "\n",
        "print(knapsack(weights, values, n, maxWeight))\n"
      ],
      "metadata": {
        "id": "vJWZeoomOEP9"
      },
      "execution_count": null,
      "outputs": []
    },
    {
      "cell_type": "markdown",
      "source": [
        "## **Matrix Chain Multiplication**\n",
        "\n",
        "* Given a chain of matrices A1, A2, A3,.....An, you have to figure out the most efficient way to multiply these matrices. In other words, determine where to place parentheses to minimize the number of multiplications.\n",
        "* You will be given an array p[] of size n + 1. Dimension of matrix Ai is p[i - 1]*p[i]. You need to find minimum number of multiplications needed to multiply the chain.\n",
        "### **Input Format:**\n",
        "* The first line of input contains an integer, that denotes the value of n. The following line contains n+1 integers, that denote the value of elements of array p[].\n",
        "### **Output Format:**\n",
        "* The first and only line of output prints the minimum number of multiplication needed.\n",
        "### **Constraints :**\n",
        "* 1 <= n <= 100\n",
        "* Time limit: 1 second\n",
        "### **Sample Input 1:**\n",
        "* 3\n",
        "* 10 15 20 25\n",
        "### **Sample Output 1:**\n",
        "* 8000\n",
        "### **Sample Output Explanation:**\n",
        "* There are two ways to multiply the chain - A1*(A2*A3) or (A1*A2)*A3.\n",
        "If we multiply in order- A1*(A2*A3), then number of multiplications required are 11250.\n",
        "If we multiply in order- (A1*A2)*A3, then number of multiplications required are 8000.\n",
        "Thus minimum number of multiplications required are 8000. "
      ],
      "metadata": {
        "id": "fo7buGGpPHGJ"
      }
    },
    {
      "cell_type": "code",
      "source": [
        "import sys\n",
        "from sys import stdin\n",
        "\n",
        "def mcm(p, n):\n",
        "    # initialize the dp table\n",
        "    dp = [[0 for j in range(n+1)] for i in range(n+1)]\n",
        "\n",
        "    # fill up the dp table in bottom-up manner\n",
        "    for l in range(2, n+1):\n",
        "        for i in range(1, n-l+2):\n",
        "            j = i+l-1\n",
        "            dp[i][j] = sys.maxsize\n",
        "            for k in range(i, j):\n",
        "                dp[i][j] = min(dp[i][j], dp[i][k] + dp[k+1][j] + p[i-1]*p[k]*p[j])\n",
        "\n",
        "    # return the minimum number of multiplications required\n",
        "    return dp[1][n]\n",
        "\n",
        "\n",
        "n = int(stdin.readline().strip())\n",
        "p = [int(i) for i in stdin.readline().strip().split()]\n",
        "print(mcm(p, n))\n"
      ],
      "metadata": {
        "id": "VaKf39XyPlYU"
      },
      "execution_count": null,
      "outputs": []
    }
  ]
}