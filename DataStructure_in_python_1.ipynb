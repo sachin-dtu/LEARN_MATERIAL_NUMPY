{
  "nbformat": 4,
  "nbformat_minor": 0,
  "metadata": {
    "colab": {
      "provenance": [],
      "toc_visible": true,
      "authorship_tag": "ABX9TyP950NdlUgmOA5uWVpPkOlh",
      "include_colab_link": true
    },
    "kernelspec": {
      "name": "python3",
      "display_name": "Python 3"
    },
    "language_info": {
      "name": "python"
    }
  },
  "cells": [
    {
      "cell_type": "markdown",
      "metadata": {
        "id": "view-in-github",
        "colab_type": "text"
      },
      "source": [
        "<a href=\"https://colab.research.google.com/github/sachin-dtu/LEARN_MATERIAL_NUMPY/blob/main/DataStructure_in_python_1.ipynb\" target=\"_parent\"><img src=\"https://colab.research.google.com/assets/colab-badge.svg\" alt=\"Open In Colab\"/></a>"
      ]
    },
    {
      "cell_type": "markdown",
      "source": [
        "# CONTENTS \n",
        "\n",
        "### 1. [RECURSION-1](https://colab.research.google.com/drive/1-GkJ5_eWVuubsCBa4KKn2m6ndk6-tVL1#scrollTo=3eknZOVd9UBK&line=1&uniqifier=1)\n",
        "1. [Power Of A Number](https://colab.research.google.com/drive/1-GkJ5_eWVuubsCBa4KKn2m6ndk6-tVL1#scrollTo=-_0nRtCI7BtU)\n",
        "2. [Sum of Array](https://colab.research.google.com/drive/1-GkJ5_eWVuubsCBa4KKn2m6ndk6-tVL1#scrollTo=LEztXSJZ7kNY)\n",
        "3. [Check Number in Array](https://colab.research.google.com/drive/1-GkJ5_eWVuubsCBa4KKn2m6ndk6-tVL1#scrollTo=ByRzxODY79Op)\n",
        "4. [First Index of Number](https://colab.research.google.com/drive/1-GkJ5_eWVuubsCBa4KKn2m6ndk6-tVL1#scrollTo=r-pm9L-Z8YUd)\n",
        "5. [Last Index of Number](https://colab.research.google.com/drive/1-GkJ5_eWVuubsCBa4KKn2m6ndk6-tVL1#scrollTo=mtwwPxiK8uvA)\n",
        "### 2. [RECURTION-2](https://colab.research.google.com/drive/1-GkJ5_eWVuubsCBa4KKn2m6ndk6-tVL1#scrollTo=71Vn_Bjs9Gs4)\n",
        "1. [Remove X](https://colab.research.google.com/drive/1-GkJ5_eWVuubsCBa4KKn2m6ndk6-tVL1#scrollTo=_z0fSEUo9cF-)\n",
        "2. [Remove Duplicates Recursively](https://colab.research.google.com/drive/1-GkJ5_eWVuubsCBa4KKn2m6ndk6-tVL1#scrollTo=zq-nSqfn94jq)\n",
        "3. [Merge Sort Code](https://colab.research.google.com/drive/1-GkJ5_eWVuubsCBa4KKn2m6ndk6-tVL1#scrollTo=eDn2Kemg-M40)\n",
        "4. [Quick Sort Code](https://colab.research.google.com/drive/1-GkJ5_eWVuubsCBa4KKn2m6ndk6-tVL1#scrollTo=s03a8Hwj-msA)\n",
        "5. [Tower Of Hanoi](https://colab.research.google.com/drive/1-GkJ5_eWVuubsCBa4KKn2m6ndk6-tVL1#scrollTo=_bjbdpgx_EwV)\n",
        "### 3. [RECURTION ASSIGNMENT](https://colab.research.google.com/drive/1-GkJ5_eWVuubsCBa4KKn2m6ndk6-tVL1#scrollTo=CCnNqT8F_m-r)\n",
        "1. [Geometric Sum](https://colab.research.google.com/drive/1-GkJ5_eWVuubsCBa4KKn2m6ndk6-tVL1#scrollTo=dhB3iTtQ_yVn)\n",
        "2. [Check Palindrome(recursive)](https://colab.research.google.com/drive/1-GkJ5_eWVuubsCBa4KKn2m6ndk6-tVL1#scrollTo=Uy0XMkmIAMzp)\n",
        "3. [Sum of digits (recursive)](https://colab.research.google.com/drive/1-GkJ5_eWVuubsCBa4KKn2m6ndk6-tVL1#scrollTo=VC9tp9DqAlaU)\n",
        "4. [Multiplicaton (recursive)](https://colab.research.google.com/drive/1-GkJ5_eWVuubsCBa4KKn2m6ndk6-tVL1#scrollTo=m3_wRk0aA42D)\n",
        "5. [Count Zeros](https://colab.research.google.com/drive/1-GkJ5_eWVuubsCBa4KKn2m6ndk6-tVL1#scrollTo=j1kc9FDGBSFK)\n",
        "6. [String to integer](https://colab.research.google.com/drive/1-GkJ5_eWVuubsCBa4KKn2m6ndk6-tVL1#scrollTo=ebCv5YbLBvOY)\n",
        "7. [Pair Star](https://colab.research.google.com/drive/1-GkJ5_eWVuubsCBa4KKn2m6ndk6-tVL1#scrollTo=APjTsbGlCIbS)\n",
        "8. [Check AB](https://colab.research.google.com/drive/1-GkJ5_eWVuubsCBa4KKn2m6ndk6-tVL1#scrollTo=SD978VZvClYX)\n",
        "9. [Staircase](https://colab.research.google.com/drive/1-GkJ5_eWVuubsCBa4KKn2m6ndk6-tVL1#scrollTo=cnM3rWm6D7AB)\n"
      ],
      "metadata": {
        "id": "RFLCuzJ9Epgr"
      }
    },
    {
      "cell_type": "markdown",
      "source": [
        "# RECURSION-1"
      ],
      "metadata": {
        "id": "3eknZOVd9UBK"
      }
    },
    {
      "cell_type": "markdown",
      "source": [
        "## Power Of A Number\n",
        "\n",
        "* Write a program to find x to the power n (i.e. x^n). Take x and n from the user. You need to print the answer.\n",
        "* Note : For this question, you can assume that 0 raised to the power of 0 is 1\n",
        "### Input format :\n",
        "* Two integers x and n (separated by space)\n",
        "### Output Format :\n",
        "* x^n (i.e. x raise to the power n)\n",
        "### Constraints:\n",
        "* 0 <= x <= 8 \n",
        "* 0 <= n <= 9\n",
        "### Sample Input 1 :\n",
        "*  3 4\n",
        "### Sample Output 1 :\n",
        "* 81\n",
        "### Sample Input 2 :\n",
        "* 2 5\n",
        "### Sample Output 2 :\n",
        "* 32"
      ],
      "metadata": {
        "id": "-_0nRtCI7BtU"
      }
    },
    {
      "cell_type": "code",
      "execution_count": null,
      "metadata": {
        "id": "R6pf-ek_5Vo3"
      },
      "outputs": [],
      "source": [
        "def power(a, b):\n",
        "\tif b ==0:\n",
        "\t\treturn 1\n",
        "\treturn a*power(a,b-1)\n",
        "a, b = input().split()\n",
        "a = int(a)\n",
        "b = int(b)\n",
        "print(power(a,b))"
      ]
    },
    {
      "cell_type": "markdown",
      "source": [
        "## Sum Of Array\n",
        "* Given an array of length N, you need to find and return the sum of all elements of the array.\n",
        "* Do this recursively.\n",
        "### Input Format :\n",
        "* Line 1 : An Integer N i.e. size of array\n",
        "* Line 2 : N integers which are elements of the array, separated by spaces\n",
        "### Output Format :\n",
        "* Sum\n",
        "### Constraints :\n",
        "* 1 <= N <= 10^3\n",
        "### Sample Input 1 :\n",
        "* 3\n",
        "* 9 8 9\n",
        "### Sample Output 1 :\n",
        "* 26\n",
        "### Sample Input 2 :\n",
        "* 3\n",
        "* 4 2 1\n",
        "### Sample Output 2 :\n",
        "* 7    "
      ],
      "metadata": {
        "id": "LEztXSJZ7kNY"
      }
    },
    {
      "cell_type": "code",
      "source": [
        "\n",
        "def sumArray(arr):\n",
        "\n",
        "\tif len(arr) ==1:\n",
        "\t\treturn arr[0]\n",
        "\telse:\n",
        "\t\treturn arr[0] +sumArray(arr[1:])\n",
        "\n",
        "\n",
        "\n",
        "from sys import setrecursionlimit\n",
        "setrecursionlimit(11000)\n",
        "n=int(input())\n",
        "arr=list(int(i) for i in input().strip().split(' '))\n",
        "print(sumArray(arr))\n"
      ],
      "metadata": {
        "id": "F3LxF-6874Z5"
      },
      "execution_count": null,
      "outputs": []
    },
    {
      "cell_type": "markdown",
      "source": [
        "## Check Number in Array\n",
        "\n",
        "* Given an array of length N and an integer x, you need to find if x is present in the array or not. Return true or false.\n",
        "* Do this recursively.\n",
        "### Input Format :\n",
        "* Line 1 : An Integer N i.e. size of array\n",
        "* Line 2 : N integers which are elements of the array, separated by spaces\n",
        "* Line 3 : Integer x\n",
        "### Output Format :\n",
        "* 'true' or 'false'\n",
        "### Constraints :\n",
        "* 1 <= N <= 10^3\n",
        "### Sample Input 1 :\n",
        "* 3\n",
        "* 9 8 10\n",
        "* 8\n",
        "### Sample Output 1 :\n",
        "* true\n",
        "### Sample Input 2 :\n",
        "* 3\n",
        "* 9 8 10\n",
        "* 2\n",
        "### Sample Output 2 :\n",
        "* false"
      ],
      "metadata": {
        "id": "ByRzxODY79Op"
      }
    },
    {
      "cell_type": "code",
      "source": [
        "\n",
        "def checkNumber(arr, x):\n",
        "\tif len(arr)==0:\n",
        "\t\treturn False\n",
        "\tif arr[0] ==x:\n",
        "\t\treturn True\n",
        "\telse:\n",
        "\t\tQ=checkNumber(arr[1:],x)\n",
        "\tif Q:\n",
        "\t\treturn True\n",
        "\telse:\n",
        "\t\treturn False\n",
        "\n",
        "# Main\n",
        "from sys import setrecursionlimit\n",
        "setrecursionlimit(11000)\n",
        "n=int(input())\n",
        "arr=list(int(i) for i in input().strip().split(' '))\n",
        "x=int(input())\n",
        "if checkNumber(arr, x):\n",
        "    print('true')\n",
        "else:\n",
        "    print('false')\n"
      ],
      "metadata": {
        "id": "2p-NDrwS8Sx3"
      },
      "execution_count": null,
      "outputs": []
    },
    {
      "cell_type": "markdown",
      "source": [
        "## First Index of Number - Question\n",
        "\n",
        "* Given an array of length N and an integer x, you need to find and return the first index of integer x present in the array. Return -1 if it is not present in the array.\n",
        "* First index means, the index of first occurrence of x in the input array.\n",
        "Do this recursively. Indexing in the array starts from 0.\n",
        "### Input Format :\n",
        "* Line 1 : An Integer N i.e. size of array\n",
        "* Line 2 : N integers which are elements of the array, separated by spaces\n",
        "* Line 3 : Integer x\n",
        "### Output Format :\n",
        "* first index or -1\n",
        "### Constraints :\n",
        "* 1 <= N <= 10^3\n",
        "### Sample Input :\n",
        "* 4\n",
        "* 9 8 10 8\n",
        "* 8\n",
        "### Sample Output :\n",
        "* 1"
      ],
      "metadata": {
        "id": "r-pm9L-Z8YUd"
      }
    },
    {
      "cell_type": "code",
      "source": [
        "def firstIndex(arr, x):\n",
        "    # Please add your code here\n",
        "    l = len(arr)\n",
        "    if l ==0:\n",
        "        return -1\n",
        "    if arr[0] ==x:\n",
        "        return 0\n",
        "    smallerlist = arr[1:]\n",
        "    smallerLO = firstIndex(smallerlist,x)\n",
        "    if smallerLO ==-1:\n",
        "        return -1\n",
        "    else:\n",
        "        return smallerLO +1\n",
        "\n",
        "# Main\n",
        "from sys import setrecursionlimit\n",
        "setrecursionlimit(11000)\n",
        "n=int(input())\n",
        "arr=list(int(i) for i in input().strip().split(' '))\n",
        "x=int(input())\n",
        "print(firstIndex(arr, x))\n"
      ],
      "metadata": {
        "id": "FpJ8fDd98qWP"
      },
      "execution_count": null,
      "outputs": []
    },
    {
      "cell_type": "markdown",
      "source": [
        "## Last Index Of Number Question\n",
        "\n",
        "* Given an array of length N and an integer x, you need to find and return the last index of integer x present in the array. Return -1 if it is not present in the array.\n",
        "* Last index means - if x is present multiple times in the array, return the index at which x comes last in the array.\n",
        "* You should start traversing your array from 0, not from (N - 1).\n",
        "* Do this recursively. Indexing in the array starts from 0.\n",
        "### Input Format :\n",
        "* Line 1 : An Integer N i.e. size of array\n",
        "* Line 2 : N integers which are elements of the array, separated by spaces\n",
        "* Line 3 : Integer x\n",
        "### Output Format :\n",
        "* last index or -1\n",
        "### Constraints :\n",
        "* 1 <= N <= 10^3\n",
        "### Sample Input :\n",
        "* 4\n",
        "* 9 8 10 8\n",
        "* 8\n",
        "### Sample Output :\n",
        "* 3"
      ],
      "metadata": {
        "id": "mtwwPxiK8uvA"
      }
    },
    {
      "cell_type": "code",
      "source": [
        "## Read input as specified in the question.\n",
        "## Print output as specified in the question.\n",
        "def firstIndex(arr, x):\n",
        "    # Please add your code here\n",
        "    l = len(arr)\n",
        "    if l ==0:\n",
        "        return -1\n",
        "    if arr[l-1] ==x:\n",
        "        return l-1\n",
        "    smallerlist = arr[:l-1]\n",
        "    smallerLO = firstIndex(smallerlist,x)\n",
        "    if smallerLO ==-1:\n",
        "        return -1\n",
        "    else:\n",
        "        return smallerLO \n",
        "\n",
        "# Main\n",
        "from sys import setrecursionlimit\n",
        "setrecursionlimit(11000)\n",
        "n=int(input())\n",
        "arr=list(int(i) for i in input().strip().split(' '))\n",
        "x=int(input())\n",
        "print(firstIndex(arr, x))\n"
      ],
      "metadata": {
        "id": "NXn5KVfs9Fjo"
      },
      "execution_count": null,
      "outputs": []
    },
    {
      "cell_type": "markdown",
      "source": [
        "# RECURTION-2"
      ],
      "metadata": {
        "id": "71Vn_Bjs9Gs4"
      }
    },
    {
      "cell_type": "markdown",
      "source": [
        "## Remove X\n",
        "\n",
        "* Given a string, compute recursively a new string where all 'x' chars have been removed.\n",
        "### Input format :\n",
        "* String S\n",
        "### Output format :\n",
        "* Modified String\n",
        "### Constraints :\n",
        "* 1 <= |S| <= 10^3\n",
        "* where |S| represents the length of string S. \n",
        "### Sample Input 1 :\n",
        "* xaxb\n",
        "### Sample Output 1:\n",
        "* ab\n",
        "### Sample Input 2 :\n",
        "* abc\n",
        "### Sample Output 2:\n",
        "* abc\n",
        "### Sample Input 3 :\n",
        "* xx\n",
        "### Sample Output 3:"
      ],
      "metadata": {
        "id": "_z0fSEUo9cF-"
      }
    },
    {
      "cell_type": "code",
      "source": [
        "# Problem: Remove x from string\n",
        "# def removeX(string): \n",
        "#     if len(string) == 0:\n",
        "\n",
        "# # Main\n",
        "# string = input()\n",
        "# print(removeX(string))\n",
        "\n",
        "def removeX(string):\n",
        "    if len(string) ==0:\n",
        "        return string\n",
        "    sma = removeX(string[1:])\n",
        "    if string[0] ==\"x\":\n",
        "        return sma\n",
        "    else:\n",
        "        return string[0] +sma\n",
        "\n",
        "# Main\n",
        "string = input()\n",
        "print(removeX(string))\n"
      ],
      "metadata": {
        "id": "IOS5tCU693g5"
      },
      "execution_count": null,
      "outputs": []
    },
    {
      "cell_type": "markdown",
      "source": [
        "## Remove Duplicates Recursively\n",
        "* Given a string S, remove consecutive duplicates from it recursively.\n",
        "### Input Format :\n",
        "* String S\n",
        "### Output Format :\n",
        "* Output string\n",
        "### Constraints :\n",
        "* 1 <= |S| <= 10^3\n",
        "* where |S| represents the length of string\n",
        "### Sample Input 1 :\n",
        "* aabccba\n",
        "### Sample Output 1 :\n",
        "* abcba\n",
        "### Sample Input 2 :\n",
        "* xxxyyyzwwzzz\n",
        "### Sample Output 2 :\n",
        "* xyzwz"
      ],
      "metadata": {
        "id": "zq-nSqfn94jq"
      }
    },
    {
      "cell_type": "code",
      "source": [
        "# # Problem ID 91, removeConsecutiveDuplicates\n",
        "# def removeConsecutiveDuplicates(string):\n",
        "    \n",
        "#     # Please add your code here\n",
        "#     pass\n",
        "\n",
        "# # Main\n",
        "# string = input().strip()\n",
        "# print(removeConsecutiveDuplicates(string))\n",
        "def removeConsecutiveDuplicates(string):\n",
        "    # Please add your code here\n",
        "    if len(string) ==0 or len(string) ==1:\n",
        "        return string\n",
        "    if string[0]==string[1]:\n",
        "        return removeConsecutiveDuplicates(string[1:])\n",
        "    else:\n",
        "        return string[0] + removeConsecutiveDuplicates(string[1:])\n",
        "\n",
        "# Main\n",
        "string = input().strip()\n",
        "print(removeConsecutiveDuplicates(string))\n"
      ],
      "metadata": {
        "id": "ORmoy8y--IRf"
      },
      "execution_count": null,
      "outputs": []
    },
    {
      "cell_type": "markdown",
      "source": [
        "## Merge Sort Code\n",
        "* Sort an array A using Merge Sort.\n",
        "* Change in the input array itself. So no need to return or print anything.\n",
        "### Input format :\n",
        "* Line 1 : Integer n i.e. Array size\n",
        "* Line 2 : Array elements (separated by space)\n",
        "### Output format :\n",
        "* Array elements in increasing order (separated by space)\n",
        "### Constraints :\n",
        "* 1 <= n <= 10^3\n",
        "### Sample Input 1 :\n",
        "* 6 \n",
        "* 2 6 8 5 4 3\n",
        "### Sample Output 1 :\n",
        "* 2 3 4 5 6 8\n",
        "### Sample Input 2 :\n",
        "* 5\n",
        "* 2 1 5 2 3\n",
        "### Sample Output 2 :\n",
        "* 1 2 2 3 5 "
      ],
      "metadata": {
        "id": "eDn2Kemg-M40"
      }
    },
    {
      "cell_type": "code",
      "source": [
        "\n",
        "def merge(arr,start,m,end):\n",
        "    left = arr[start:m+1]\n",
        "    right = arr[m+1:end+1]\n",
        "    i = 0\n",
        "    j = 0\n",
        "    k = start\n",
        "    while i<len(left) and j <len(right):\n",
        "        if left[i]<=right[j]:\n",
        "            arr[k]= left[i]\n",
        "            i+=1\n",
        "        else:\n",
        "            arr[k] = right[j]\n",
        "            j+=1\n",
        "        k+=1\n",
        "    while i<len(left):\n",
        "        arr[k]= left[i]\n",
        "        i+=1\n",
        "        k+=1\n",
        "    while j<len(right):\n",
        "        arr[k]= right[j]\n",
        "        j+=1\n",
        "        k+=1\n",
        "def mergeSort(arr, start, end):\n",
        "    # Please add your code here\n",
        "    if end>start:\n",
        "        m = (start+end)//2\n",
        "        mergeSort(arr,start,m)\n",
        "        mergeSort(arr,m+1,end)\n",
        "        merge(arr,start,m,end)\n",
        "\n",
        "# Main\n",
        "n=int(input())\n",
        "arr=list(int(i) for i in input().strip().split(' '))\n",
        "mergeSort(arr, 0, n)\n",
        "print(*arr)\n"
      ],
      "metadata": {
        "id": "YnQQN59B-hp_"
      },
      "execution_count": null,
      "outputs": []
    },
    {
      "cell_type": "markdown",
      "source": [
        "## Quick Sort Code\n",
        "\n",
        "* Sort an array A using Quick Sort.\n",
        "* Change in the input array itself. So no need to return or print anything.\n",
        "\n",
        "\n",
        "### Input format :\n",
        "* Line 1 : Integer n i.e. Array size\n",
        "* Line 2 : Array elements (separated by space)\n",
        "### Output format :\n",
        "* Array elements in increasing order (separated by space)\n",
        "### Constraints :\n",
        "* 1 <= n <= 10^3\n",
        "### Sample Input 1 :\n",
        "* 6 \n",
        "* 2 6 8 5 4 3\n",
        "### Sample Output 1 :\n",
        "* 2 3 4 5 6 8\n",
        "### Sample Input 2 :\n",
        "* 5\n",
        "* 1 5 2 7 3\n",
        "### Sample Output 2 :\n",
        "* 1 2 3 5 7 "
      ],
      "metadata": {
        "id": "s03a8Hwj-msA"
      }
    },
    {
      "cell_type": "code",
      "source": [
        "def partition(arr,start,end):\n",
        "    pivot = arr[end]\n",
        "    i = start-1\n",
        "    for j in range(start,end):\n",
        "        if arr[j]<=pivot:\n",
        "            i+=1\n",
        "            arr[i],arr[j]=arr[j],arr[i]\n",
        "    arr[i+1],arr[end]=arr[end],arr[i+1]\n",
        "    return i+1\n",
        "\n",
        "def quickSort(arr, start, end):\n",
        "    # Please add your code here\n",
        "    if start<end:\n",
        "        p = partition(arr,start,end)\n",
        "        quickSort(arr,start,p-1)\n",
        "        quickSort(arr,p+1,end)\n",
        "\n",
        "\n",
        "n=int(input())\n",
        "arr=list(int(i) for i in input().strip().split(' '))\n",
        "quickSort(arr, 0, n-1)\n",
        "print(*arr)"
      ],
      "metadata": {
        "id": "1pSF1LPl-8tL"
      },
      "execution_count": null,
      "outputs": []
    },
    {
      "cell_type": "markdown",
      "source": [
        "## Tower Of Hanoi - Problem\n",
        "\n",
        "* Tower of Hanoi is a mathematical puzzle where we have three rods and n disks. The objective of the puzzle is to move all disks from source rod to destination rod using third rod (say auxiliary). The rules are :\n",
        "1. 1) Only one disk can be moved at a time.\n",
        "1. 2) A disk can be moved only if it is on the top of a rod.\n",
        "1. 3) No disk can be placed on the top of a smaller disk.\n",
        "* Print the steps required to move n disks from source rod to destination rod.\n",
        "Source Rod is named as 'a', auxiliary rod as 'b' and destination rod as 'c'.\n",
        "### Input Format :\n",
        "* Integer n\n",
        "### Output Format :\n",
        "* Steps in different lines (in one line print source and destination rod name separated by space)\n",
        "### Constraints :\n",
        "* 0 <= n <= 20\n",
        "### Sample Input 1 :\n",
        "* 2\n",
        "### Sample Output 1 :\n",
        "* a b\n",
        "* a c\n",
        "* b c\n",
        "### Sample Input 2 :\n",
        "* 3\n",
        "### Sample Output 2 :\n",
        "* a c\n",
        "* a b\n",
        "* c b\n",
        "* a c\n",
        "* b a\n",
        "* b c\n",
        "* a c"
      ],
      "metadata": {
        "id": "_bjbdpgx_EwV"
      }
    },
    {
      "cell_type": "code",
      "source": [
        "def towerofhanoi(n, source, aux, dest):\n",
        "    # Please add your code here\n",
        "    if n==0:\n",
        "        return\n",
        "    if n ==1:\n",
        "        print(source,dest)\n",
        "        return\n",
        "    else:\n",
        "        towerofhanoi(n-1, source, dest, aux)\n",
        "        print(source,dest)\n",
        "        towerofhanoi(n-1, aux, source, dest)\n",
        "        \n",
        "\n",
        "n=int(input())\n",
        "towerofhanoi(n, 'a', 'b', 'c')\n"
      ],
      "metadata": {
        "id": "_wbYf-H2_l8C"
      },
      "execution_count": null,
      "outputs": []
    },
    {
      "cell_type": "markdown",
      "source": [
        "# RECURTION ASSIGNMENT"
      ],
      "metadata": {
        "id": "CCnNqT8F_m-r"
      }
    },
    {
      "cell_type": "markdown",
      "source": [
        "## Geometric Sum\n",
        "\n",
        "* Given k, find the geometric sum i.e.\n",
        "* 1 + 1/2 + 1/4 + 1/8 + ... + 1/(2^k) \n",
        "* using recursion.\n",
        "### Input format :\n",
        "* Integer k\n",
        "### Output format :\n",
        "* Geometric sum (upto 5 decimal places)\n",
        "### Constraints :\n",
        "* 0 <= k <= 1000\n",
        "### Sample Input 1 :\n",
        "* 3\n",
        "### Sample Output 1 :\n",
        "* 1.87500\n",
        "### Sample Input 2 :\n",
        "* 4\n",
        "### Sample Output 2 :\n",
        "* 1.93750\n",
        "### Explanation for Sample Input 1:\n",
        "* 1+ 1/(2^1) + 1/(2^2) + 1/(2^3) = 1.87500"
      ],
      "metadata": {
        "id": "dhB3iTtQ_yVn"
      }
    },
    {
      "cell_type": "code",
      "source": [
        "## Read input as specified in the question.\n",
        "## Print output as specified in the question.\n",
        "def gem(n):\n",
        "    sum = 0\n",
        "    for i in range(n+1):\n",
        "        sum+=1/2**i\n",
        "    a = print('%.5f' % sum)\n",
        "    return a\n",
        "n = int(input())\n",
        "gem(n)\n"
      ],
      "metadata": {
        "id": "0D3Qu6tJAFMP"
      },
      "execution_count": null,
      "outputs": []
    },
    {
      "cell_type": "markdown",
      "source": [
        "## Check Palindrome (recursive)\n",
        "\n",
        "* Check whether a given String S is a palindrome using recursion. Return true or false.\n",
        "### Input Format :\n",
        "* String S\n",
        "### Output Format :\n",
        "* 'true' or 'false'\n",
        "### Constraints :\n",
        "* 0 <= |S| <= 1000\n",
        "* where |S| represents length of string S.\n",
        "### Sample Input 1 :\n",
        "* racecar\n",
        "### Sample Output 1:\n",
        "* true\n",
        "### Sample Input 2 :\n",
        "* ninja\n",
        "### Sample Output 2:\n",
        "* false"
      ],
      "metadata": {
        "id": "Uy0XMkmIAMzp"
      }
    },
    {
      "cell_type": "code",
      "source": [
        "## Read input as specified in the question.\n",
        "## Print output as specified in the question.\n",
        "def mult(n,start,end):\n",
        "    if len(n) ==0 or len(n) ==1 or end ==0 or start==end:\n",
        "        return True\n",
        "    elif n[start] == n[end]:\n",
        "        return mult(n,start+1,end-1)\n",
        "    else:\n",
        "        return False\n",
        "\n",
        "n = input()\n",
        "start = 0\n",
        "end = len(n)-1\n",
        "if mult(n,start,end):\n",
        "    print(\"true\")\n",
        "else:\n",
        "    print(\"false\")"
      ],
      "metadata": {
        "id": "O0Bah_rXAgoO"
      },
      "execution_count": null,
      "outputs": []
    },
    {
      "cell_type": "markdown",
      "source": [
        "## Sum of digits (recursive)\n",
        "\n",
        "* Write a recursive function that returns the sum of the digits of a given integer.\n",
        "### Input format :\n",
        "* Integer N\n",
        "### Output format :\n",
        "* Sum of digits of N\n",
        "### Constraints :\n",
        "* 0 <= N <= 10^9\n",
        "### Sample Input 1 :\n",
        "* 12345\n",
        "### Sample Output 1 :\n",
        "* 15\n",
        "### Sample Input 2 :\n",
        "* 9\n",
        "### Sample Output 2 :\n",
        "* 9"
      ],
      "metadata": {
        "id": "VC9tp9DqAlaU"
      }
    },
    {
      "cell_type": "code",
      "source": [
        "## Read input as specified in the question.\n",
        "## Print output as specified in the question.\n",
        "\n",
        "def sum(n):\n",
        "    if n <10:\n",
        "        return n%10\n",
        "    else:\n",
        "\n",
        "        return n%10 + sum(n//10)\n",
        "n = int(input())\n",
        "print(sum(n))\n"
      ],
      "metadata": {
        "id": "GYNqidC9A4Hz"
      },
      "execution_count": null,
      "outputs": []
    },
    {
      "cell_type": "markdown",
      "source": [
        "## Multiplication (Recursive)\n",
        "\n",
        "* Given two integers M & N, calculate and return their multiplication using recursion. You can only use subtraction and addition for your calculation. No other operators are allowed.\n",
        "### Input format :\n",
        "* Line 1 : Integer M\n",
        "* Line 2 : Integer N\n",
        "### Output format :\n",
        "* M x N\n",
        "### Constraints :\n",
        "* 0 <= M <= 1000\n",
        "* 0 <= N <= 1000\n",
        "### Sample Input 1 :\n",
        "* 3 \n",
        "* 5\n",
        "### Sample Output 1 :\n",
        "* 15\n",
        "### Sample Input 2 :\n",
        "* 4 \n",
        "* 0\n",
        "### Sample Output 2 :\n",
        "* 0"
      ],
      "metadata": {
        "id": "m3_wRk0aA42D"
      }
    },
    {
      "cell_type": "code",
      "source": [
        "def mult(n,m):\n",
        "    if m>n:\n",
        "        return mult(m,n)\n",
        "    elif m!=0:\n",
        "        return n + mult(n,m-1)\n",
        "    else:\n",
        "        return 0\n",
        "n = int(input())\n",
        "m = int(int(input()))\n",
        "print(mult(n,m))\n"
      ],
      "metadata": {
        "id": "XhB5N9RDBROO"
      },
      "execution_count": null,
      "outputs": []
    },
    {
      "cell_type": "markdown",
      "source": [
        "## Count Zeros\n",
        "\n",
        "* Given an integer N, count and return the number of zeros that are present in the given integer using recursion.\n",
        "### Input Format :\n",
        "* Integer N\n",
        "### Output Format :\n",
        "* Number of zeros in N\n",
        "### Constraints :\n",
        "* 0 <= N <= 10^9\n",
        "### Sample Input 1 :\n",
        "* 0\n",
        "### Sample Output 1 :\n",
        "* 1\n",
        "### Sample Input 2 :\n",
        "* 00010204\n",
        "### Sample Output 2 :\n",
        "* 2\n",
        "### Explanation for Sample Output 2 :\n",
        "* Even though \"00010204\" has 5 zeros, the output would still be 2 because when you convert it to an integer, it becomes 10204.\n",
        "### Sample Input 3 :\n",
        "* 708000\n",
        "### Sample Output 3 :\n",
        "* 4"
      ],
      "metadata": {
        "id": "j1kc9FDGBSFK"
      }
    },
    {
      "cell_type": "code",
      "source": [
        "\n",
        "def mult(n):\n",
        "    if n ==0 or n<10:\n",
        "        if n ==0:\n",
        "            return 1\n",
        "        else:\n",
        "            return 0\n",
        "    elif n%10==0:\n",
        "        return 1 + mult(n//10)\n",
        "    else:\n",
        "        return mult(n//10)\n",
        "n = int(input())\n",
        "print(mult(n))\n"
      ],
      "metadata": {
        "id": "J4lC7qs1Btjw"
      },
      "execution_count": null,
      "outputs": []
    },
    {
      "cell_type": "markdown",
      "source": [
        "## String to Integer\n",
        "\n",
        "* Write a recursive function to convert a given string into the number it represents. That is input will be a numeric string that contains only numbers, you need to convert the string into corresponding integer and return the answer.\n",
        "### Input format :\n",
        "* Numeric string S (string, Eg. \"1234\")\n",
        "### Output format :\n",
        "* Corresponding integer N (int, Eg. 1234)\n",
        "### Constraints :\n",
        "* 0 < |S| <= 9\n",
        "* where |S| represents length of string S.\n",
        "### Sample Input 1 :\n",
        "* 00001231\n",
        "### Sample Output 1 :\n",
        "* 1231\n",
        "### Sample Input 2 :\n",
        "* 12567\n",
        "### Sample Output 2 :\n",
        "* 12567"
      ],
      "metadata": {
        "id": "ebCv5YbLBvOY"
      }
    },
    {
      "cell_type": "code",
      "source": [
        "## Read input as specified in the question.\n",
        "## Print output as specified in the question.\n",
        "def multi(a):\n",
        "    n = len(a)\n",
        "    if len(a)==0:\n",
        "        return 0\n",
        "    else:\n",
        "        return int(a[0])*(10**(n-1)) + multi(a[1:])\n",
        "    \n",
        "a = input()\n",
        "print(multi(a))    "
      ],
      "metadata": {
        "id": "ppaHOwVdCEFA"
      },
      "execution_count": null,
      "outputs": []
    },
    {
      "cell_type": "markdown",
      "source": [
        "## Pair Star\n",
        "\n",
        "* Given a string S, compute recursively a new string where identical chars that are adjacent in the original string are separated from each other by a \"*\".\n",
        "### Input format :\n",
        "* String S\n",
        "### Output format :\n",
        "* Modified string\n",
        "### Constraints :\n",
        "* 0 <= |S| <= 1000\n",
        "* where |S| represents length of string S.\n",
        "### Sample Input 1 :\n",
        "* hello\n",
        "### Sample Output 1:\n",
        "* hel*lo\n",
        "### Sample Input 2 :\n",
        "* aaaa\n",
        "### Sample Output 2 :\n",
        "* a*a*a*a"
      ],
      "metadata": {
        "id": "APjTsbGlCIbS"
      }
    },
    {
      "cell_type": "code",
      "source": [
        "## Read input as specified in the question.\n",
        "## Print output as specified in the question.\n",
        "def mult(n):\n",
        "    if len(n) ==0 or len(n) ==1:\n",
        "        return n\n",
        "    elif n[0]==n[1]:\n",
        "        return n[0] + \"*\" + mult(n[1:])\n",
        "    else:\n",
        "        return n[0] +mult(n[1:])\n",
        "n = input()\n",
        "print(mult(n))"
      ],
      "metadata": {
        "id": "K_iKwhVMCkiV"
      },
      "execution_count": null,
      "outputs": []
    },
    {
      "cell_type": "markdown",
      "source": [
        "## Check AB\n",
        "\n",
        "* Suppose you have a string, S, made up of only 'a's and 'b's. Write a recursive function that checks if the string was generated using the following rules:\n",
        "1. a. The string begins with an 'a'\n",
        "2. b. Each 'a' is followed by nothing or an 'a' or \"bb\"\n",
        "3. c. Each \"bb\" is followed by nothing or an 'a'\n",
        "* If all the rules are followed by the given string, return true otherwise return false.\n",
        "### Input format :\n",
        "* String S\n",
        "### Output format :\n",
        "* 'true' or 'false'\n",
        "### Constraints :\n",
        "* 1 <= |S| <= 1000\n",
        "* where |S| represents length of string S.\n",
        "### Sample Input 1 :\n",
        "* abb\n",
        "### Sample Output 1 :\n",
        "* true\n",
        "### Sample Input 2 :\n",
        "* abababa\n",
        "### Sample Output 2 :\n",
        "* false\n",
        "### Explanation for Sample Input 2\n",
        "* In the above example, a is not followed by either \"a\" or \"bb\", instead it's followed by \"b\" which results in false to be returned."
      ],
      "metadata": {
        "id": "SD978VZvClYX"
      }
    },
    {
      "cell_type": "code",
      "source": [
        "def checkAB(str):\n",
        "    if len(str)==0:\n",
        "        return True\n",
        "    if (str[0]==\"a\"):\n",
        "        if (len(str[1:])>1 and str[1:3]==\"bb\"):\n",
        "            return checkAB(str[3:])\n",
        "        else:\n",
        "            return checkAB(str[1:])\n",
        "    else:\n",
        "        return False\n",
        "\n",
        "str = input()\n",
        "if (checkAB(str)):\n",
        "    print(\"true\")\n",
        "else:\n",
        "    print(\"false\")"
      ],
      "metadata": {
        "id": "gTIiS-8GD0xI"
      },
      "execution_count": null,
      "outputs": []
    },
    {
      "cell_type": "markdown",
      "source": [
        "## Staircase\n",
        "\n",
        "* A child is running up a staircase with N steps, and can hop either 1 step, 2 steps or 3 steps at a time. Implement a method to count how many possible ways the child can run up to the stairs. You need to return number of possible ways W.\n",
        "### Input format :\n",
        "* Integer N\n",
        "### Output Format :\n",
        "* Integer W\n",
        "### Constraints :\n",
        "* 1 <= N <= 30\n",
        "### Sample Input 1 :\n",
        "* 4\n",
        "### Sample Output 1 :\n",
        "* 7\n",
        "### Sample Input 2 :\n",
        "* 5\n",
        "### Sample Output 2 :\n",
        "* 13"
      ],
      "metadata": {
        "id": "cnM3rWm6D7AB"
      }
    },
    {
      "cell_type": "code",
      "source": [
        "## Read input as specified in the question.\n",
        "## Print output as specified in the question.\n",
        "def findStep(n):\n",
        "    if ( n == 0 ):\n",
        "        return 1\n",
        "    elif (n < 0):\n",
        "        return 0\n",
        " \n",
        "    else:\n",
        "        return findStep(n - 3) + findStep(n - 2) + findStep(n - 1)\n",
        " \n",
        " \n",
        "# Driver code\n",
        "n = int(input())\n",
        "print(findStep(n))"
      ],
      "metadata": {
        "id": "F-RoKz04EQTx"
      },
      "execution_count": null,
      "outputs": []
    }
  ]
}